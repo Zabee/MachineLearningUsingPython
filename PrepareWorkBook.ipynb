{
 "cells": [
  {
   "cell_type": "code",
   "execution_count": 42,
   "metadata": {},
   "outputs": [],
   "source": [
    "import xlwt\n",
    "import xlrd\n",
    "file = open('D:/BuildENVConsole.txt', 'r')\n",
    "row_list = []\n",
    "for row in f:\n",
    "    row_list.append(row)\n",
    "column_list = zip(*row_list)\n",
    "#print(row_list)\n",
    "try:    \n",
    "    workbook = xlwt.Workbook()\n",
    "    sheet1 = workbook.add_sheet('Sheet 1')\n",
    "    sheet1.write(0, 0, row_list)\n",
    "    sheet1.write(0,1,'ENV_ISSUE')\n",
    "    workbook.save('D:/BuildENVConsole.xls')\n",
    "except PermissionError as e:\n",
    "    print(\"User doesn't have permission or file is already open by another process\")"
   ]
  },
  {
   "cell_type": "code",
   "execution_count": null,
   "metadata": {},
   "outputs": [],
   "source": []
  }
 ],
 "metadata": {
  "kernelspec": {
   "display_name": "Python 3",
   "language": "python",
   "name": "python3"
  },
  "language_info": {
   "codemirror_mode": {
    "name": "ipython",
    "version": 3
   },
   "file_extension": ".py",
   "mimetype": "text/x-python",
   "name": "python",
   "nbconvert_exporter": "python",
   "pygments_lexer": "ipython3",
   "version": "3.7.1"
  }
 },
 "nbformat": 4,
 "nbformat_minor": 2
}
