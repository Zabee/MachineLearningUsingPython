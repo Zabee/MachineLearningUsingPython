{
 "cells": [
  {
   "cell_type": "code",
   "execution_count": 26,
   "metadata": {},
   "outputs": [
    {
     "name": "stdout",
     "output_type": "stream",
     "text": [
      "It's orange\n"
     ]
    }
   ],
   "source": [
    "#Import tree data structure from skleran package\n",
    "from sklearn import tree\n",
    "\n",
    "#\"feature\" list holds a list of map of weight and texture for e.g. 140 represents weight and 1 represents smooth texture \n",
    "feature = [[140, 1], [130, 1],[150, 0],[170, 0]]\n",
    "\n",
    "#in \"labels\" list 0 represents apple and 1 represents orange\n",
    "labels = [0, 0, 1, 1]\n",
    "\n",
    "#let's get a decision tree classifier\n",
    "clf = tree.DecisionTreeClassifier()\n",
    "\n",
    "#train the classifier\n",
    "clf.fit(feature, labels)\n",
    "\n",
    "#test the classfier with the test data\n",
    "result = clf.predict([[150, 0]])\n",
    "if result == 1:\n",
    "    print(\"It's orange\")\n",
    "else:\n",
    "    print(\"It's apple\")"
   ]
  },
  {
   "cell_type": "code",
   "execution_count": null,
   "metadata": {},
   "outputs": [],
   "source": []
  }
 ],
 "metadata": {
  "kernelspec": {
   "display_name": "Python 3",
   "language": "python",
   "name": "python3"
  },
  "language_info": {
   "codemirror_mode": {
    "name": "ipython",
    "version": 3
   },
   "file_extension": ".py",
   "mimetype": "text/x-python",
   "name": "python",
   "nbconvert_exporter": "python",
   "pygments_lexer": "ipython3",
   "version": "3.7.1"
  }
 },
 "nbformat": 4,
 "nbformat_minor": 2
}
