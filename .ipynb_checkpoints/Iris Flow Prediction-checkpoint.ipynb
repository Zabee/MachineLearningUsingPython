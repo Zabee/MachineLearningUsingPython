{
 "cells": [
  {
   "cell_type": "code",
   "execution_count": 94,
   "metadata": {
    "scrolled": true
   },
   "outputs": [
    {
     "name": "stdout",
     "output_type": "stream",
     "text": [
      "[0 1 2]\n"
     ]
    },
    {
     "data": {
      "text/plain": [
       "array([0, 1, 2])"
      ]
     },
     "execution_count": 94,
     "metadata": {},
     "output_type": "execute_result"
    }
   ],
   "source": [
    "#import iris data set\n",
    "from sklearn.datasets import load_iris\n",
    "if False:    \n",
    "    iris = load_iris()\n",
    "    #Array of flower names\n",
    "    flowers = [\"setosa\", \"versicolor\", \"virginica\"]\n",
    "\n",
    "    def printIrisDataSetColumnHeaders():\n",
    "        print(iris.feature_names)    \n",
    "\n",
    "    def printFirstRowFeatureValues_x_(index):\n",
    "        print(iris.data[index])\n",
    "\n",
    "    #print a data row from iris data set i.e. a row from here - https://en.wikipedia.org/wiki/Iris_flower_data_set\n",
    "    def printFlowerName_y_(index):\n",
    "        return iris.target[index]\n",
    "\n",
    "    try:\n",
    "        index = int(input(\"Enter index for iris dataset:\"))\n",
    "        index = index -1\n",
    "        printIrisDataSetColumnHeaders()\n",
    "        printFirstRowFeatureValues_x_(index)\n",
    "        flowerName = flowers[int(printFlowerName_y_(index))]\n",
    "        print(flowerName)\n",
    "    except IndexError as e:\n",
    "        print(\"Index out of datasets\");\n",
    "    \n",
    "#Let's get into business here\n",
    "#(1) Import data set. It's already done, but it would hurt do it again\n",
    "from sklearn.datasets import load_iris\n",
    "from sklearn import tree\n",
    "import numpy as np\n",
    "\n",
    "iris_x_y = load_iris()\n",
    "test_data_features_x = [0, 50, 100]\n",
    "\n",
    "#training data\n",
    "train_target_flowername_y = np.delete(iris.target, test_data_features_x)\n",
    "train_data_features_x = np.delete(iris.data, test_data_features_x, axis=0)\n",
    "\n",
    "#testing data \n",
    "test_target_flowername_y = iris.target[test_features_x]\n",
    "test_data_features_x   = iris.data[test_features_x]\n",
    "\n",
    "#(2) Train a classifier \n",
    "claf = tree.DecisionTreeClassifier()\n",
    "claf.fit(train_data_features_x, train_target_flowername_y)\n",
    "\n",
    "print(test_target_flowername_y)\n",
    "\n",
    "#(3) Predict label for a new test data i.e. a new flower\n",
    "#Output should be same as test_target_flowername_y [0 1 2]\n",
    "print(claf.predict(test_data_features_x))\n",
    "\n",
    "#(4) Visualize the tree"
   ]
  },
  {
   "cell_type": "code",
   "execution_count": null,
   "metadata": {},
   "outputs": [],
   "source": []
  },
  {
   "cell_type": "code",
   "execution_count": null,
   "metadata": {},
   "outputs": [],
   "source": []
  }
 ],
 "metadata": {
  "kernelspec": {
   "display_name": "Python 3",
   "language": "python",
   "name": "python3"
  },
  "language_info": {
   "codemirror_mode": {
    "name": "ipython",
    "version": 3
   },
   "file_extension": ".py",
   "mimetype": "text/x-python",
   "name": "python",
   "nbconvert_exporter": "python",
   "pygments_lexer": "ipython3",
   "version": "3.7.1"
  }
 },
 "nbformat": 4,
 "nbformat_minor": 2
}
